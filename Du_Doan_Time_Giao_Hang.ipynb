{
 "cells": [
  {
   "cell_type": "markdown",
   "id": "249b08bc",
   "metadata": {},
   "source": [
    "### DỰ ĐOÁN THỜI GIAN GIAO HÀNG"
   ]
  },
  {
   "cell_type": "code",
   "execution_count": null,
   "id": "8b790984",
   "metadata": {
    "papermill": {
     "duration": 2.726245,
     "end_time": "2023-12-09T06:31:54.536866",
     "exception": false,
     "start_time": "2023-12-09T06:31:51.810621",
     "status": "completed"
    },
    "tags": []
   },
   "outputs": [],
   "source": [
    "import numpy as np\n",
    "import pandas as pd\n",
    "import matplotlib.pyplot as plt\n",
    "import seaborn as sns\n",
    "import scipy.stats as stats\n",
    "import statistics\n",
    "from geopy.distance import geodesic\n",
    "# CT geodesic trong thư viện Geopy sử dụng các tọa độ địa lý của 2 điểm\n",
    "# (như Restaurant_latitude, Restaurant_longitude, Delivery_location_latitude, Delivery_location_longitude) \n",
    "# để tính toán khoảng cách giữa chúng trên bề mặt của Trái Đất. \n",
    "# Cho phép tính khoảng cách giữa các vị trí dựa trên tọa độ địa lý của chúng.\n",
    "\n",
    "from sklearn.model_selection import train_test_split,cross_val_score, GridSearchCV\n",
    "from sklearn.preprocessing import LabelEncoder,StandardScaler \n",
    "from sklearn.linear_model import LinearRegression\n",
    "from sklearn.tree import DecisionTreeRegressor\n",
    "from sklearn.ensemble import RandomForestRegressor\n",
    "import xgboost as xgb\n",
    "from sklearn.metrics import mean_squared_error, r2_score,mean_absolute_error\n",
    "import warnings\n",
    "warnings.filterwarnings('ignore')\n",
    "pd.set_option(\"display.max_columns\",None)\n",
    "from sklearn.impute import SimpleImputer\n",
    "from sklearn.preprocessing import StandardScaler,OneHotEncoder\n",
    "from sklearn.pipeline import Pipeline\n",
    "from sklearn.compose import ColumnTransformer\n",
    "from sklearn.model_selection import train_test_split"
   ]
  },
  {
   "cell_type": "code",
   "execution_count": null,
   "id": "a8336d68",
   "metadata": {
    "papermill": {
     "duration": 0.416683,
     "end_time": "2023-12-09T06:31:55.019254",
     "exception": false,
     "start_time": "2023-12-09T06:31:54.602571",
     "status": "completed"
    },
    "tags": []
   },
   "outputs": [],
   "source": [
    "df_train = pd.read_csv('C:/Users/WELCOME/Desktop/DATTNT/Đồ án TTNT/Dataset/train.csv')\n",
    "df_train.head()"
   ]
  },
  {
   "cell_type": "code",
   "execution_count": null,
   "id": "7421b1e4",
   "metadata": {
    "papermill": {
     "duration": 0.033993,
     "end_time": "2023-12-09T06:31:55.076602",
     "exception": false,
     "start_time": "2023-12-09T06:31:55.042609",
     "status": "completed"
    },
    "tags": []
   },
   "outputs": [],
   "source": [
    "df_train.columns"
   ]
  },
  {
   "cell_type": "code",
   "execution_count": null,
   "id": "7277ca98",
   "metadata": {
    "papermill": {
     "duration": 0.032595,
     "end_time": "2023-12-09T06:31:55.132973",
     "exception": false,
     "start_time": "2023-12-09T06:31:55.100378",
     "status": "completed"
    },
    "tags": []
   },
   "outputs": [],
   "source": [
    "print(\"Train Dataset :\", df_train.shape)"
   ]
  },
  {
   "cell_type": "code",
   "execution_count": null,
   "id": "bd4b1e09",
   "metadata": {
    "papermill": {
     "duration": 0.268494,
     "end_time": "2023-12-09T06:31:55.424487",
     "exception": false,
     "start_time": "2023-12-09T06:31:55.155993",
     "status": "completed"
    },
    "tags": []
   },
   "outputs": [],
   "source": [
    "df_train.info()"
   ]
  },
  {
   "cell_type": "markdown",
   "id": "3c7fcf22",
   "metadata": {
    "papermill": {
     "duration": 0.023067,
     "end_time": "2023-12-09T06:31:55.567607",
     "exception": false,
     "start_time": "2023-12-09T06:31:55.544540",
     "status": "completed"
    },
    "tags": []
   },
   "source": [
    "# Kiểm tra các số liệu thống kê có trong bảng với dữ liệu định tính "
   ]
  },
  {
   "cell_type": "code",
   "execution_count": null,
   "id": "564b26a9",
   "metadata": {
    "papermill": {
     "duration": 0.06728,
     "end_time": "2023-12-09T06:31:55.658046",
     "exception": false,
     "start_time": "2023-12-09T06:31:55.590766",
     "status": "completed"
    },
    "tags": []
   },
   "outputs": [],
   "source": [
    "#Kiểm tra giá trị thống kê cho các trường có kiểu dữ liệu số\n",
    "df_train.describe().T"
   ]
  },
  {
   "cell_type": "code",
   "execution_count": null,
   "id": "0a06ce18",
   "metadata": {
    "papermill": {
     "duration": 0.26803,
     "end_time": "2023-12-09T06:31:55.949301",
     "exception": false,
     "start_time": "2023-12-09T06:31:55.681271",
     "status": "completed"
    },
    "tags": []
   },
   "outputs": [],
   "source": [
    "#Kiểm tra giá trị thống kê cho các trường có kiểu dữ liệu số khác với kiểu dữ liệu số, freq: số lần xuất hiện\n",
    "df_train.describe(exclude=np.number).T\n"
   ]
  },
  {
   "cell_type": "markdown",
   "id": "09dd05a4",
   "metadata": {
    "papermill": {
     "duration": 0.023207,
     "end_time": "2023-12-09T06:31:55.996164",
     "exception": false,
     "start_time": "2023-12-09T06:31:55.972957",
     "status": "completed"
    },
    "tags": []
   },
   "source": [
    "### Sau khi quan sát, ta đã rút ra được:\n",
    "\n",
    "1. Có nhiều giá trị null ở trong cột \"Time_Orderd\".\n",
    "2. Cần phải chỉnh lại loại DL cho cột \"Weatherconditions\" và \"Time_taken(min)\"\n",
    "3. Cả hai dữ liệu định lượng (đo or đếm đc) và định tính ( 0 đo đc, chỉ để phân loại) đều có trong dataset.\n",
    "4. ID & Delivery_person_ID là 2 cột không cần thiết trong việc xây dựng mô hình."
   ]
  },
  {
   "cell_type": "markdown",
   "id": "c311ff90",
   "metadata": {
    "papermill": {
     "duration": 0.023037,
     "end_time": "2023-12-09T06:31:56.042761",
     "exception": false,
     "start_time": "2023-12-09T06:31:56.019724",
     "status": "completed"
    },
    "tags": []
   },
   "source": [
    "### Khám phá từng cột một"
   ]
  },
  {
   "cell_type": "code",
   "execution_count": null,
   "id": "f1913a33",
   "metadata": {
    "papermill": {
     "duration": 0.185968,
     "end_time": "2023-12-09T06:31:56.252187",
     "exception": false,
     "start_time": "2023-12-09T06:31:56.066219",
     "status": "completed"
    },
    "tags": []
   },
   "outputs": [],
   "source": [
    "#Explore each column\n",
    "for column in df_train.columns:\n",
    "    print(column)\n",
    "    print(df_train[column].value_counts()) #đếm slg gtri duy nhất trong mỗi cột\n",
    "    print(\"------------------------------------\")"
   ]
  },
  {
   "cell_type": "markdown",
   "id": "56a5b55c",
   "metadata": {},
   "source": [
    "- ID: Có 45593 giá trị duy nhất trong cột ID.\n",
    "- Delivery_person_ID: Có một số ID của shipper xuất hiện nhiều lần.\n",
    "- Weatherconditions: Có một số điều kiện thời tiết xuất hiện nhiều lần như \"Sunny\" hoặc \"Cloudy\".\n",
    "- Type_of_order: Loại đơn hàng \"Snack\" xuất hiện nhiều nhất.\n",
    "- Type_of_vehicle: Xe máy là phương tiện phổ biến nhất\n",
    "- Festival: Khách thường mua hàng vào dịp không phải ngày lễ\n",
    "- City: Có nhiều đơn hàng được thực hiện ở các thành phố khác nhau."
   ]
  },
  {
   "cell_type": "markdown",
   "id": "51fa46ee",
   "metadata": {
    "papermill": {
     "duration": 0.023838,
     "end_time": "2023-12-09T06:31:56.300373",
     "exception": false,
     "start_time": "2023-12-09T06:31:56.276535",
     "status": "completed"
    },
    "tags": []
   },
   "source": [
    "# Data Cleaning"
   ]
  },
  {
   "cell_type": "markdown",
   "id": "77c316d6",
   "metadata": {
    "papermill": {
     "duration": 0.02361,
     "end_time": "2023-12-09T06:31:56.348284",
     "exception": false,
     "start_time": "2023-12-09T06:31:56.324674",
     "status": "completed"
    },
    "tags": []
   },
   "source": [
    "### Chỉnh sửa tên cột"
   ]
  },
  {
   "cell_type": "code",
   "execution_count": null,
   "id": "5440f97c",
   "metadata": {
    "papermill": {
     "duration": 0.036283,
     "end_time": "2023-12-09T06:31:56.408515",
     "exception": false,
     "start_time": "2023-12-09T06:31:56.372232",
     "status": "completed"
    },
    "tags": []
   },
   "outputs": [],
   "source": [
    "def update_column_name(df):\n",
    "    #Đổi tên cột Weatherconditions\n",
    "    df.rename(columns={'Weatherconditions': 'Weather_conditions'},inplace=True)\n",
    "    \n",
    "update_column_name(df_train)\n",
    "print(df_train.columns)"
   ]
  },
  {
   "cell_type": "markdown",
   "id": "4634364f",
   "metadata": {
    "papermill": {
     "duration": 0.024591,
     "end_time": "2023-12-09T06:31:56.458239",
     "exception": false,
     "start_time": "2023-12-09T06:31:56.433648",
     "status": "completed"
    },
    "tags": []
   },
   "source": [
    "### Biến đổi các giá trị trong cột thành những giá trị dễ đọc "
   ]
  },
  {
   "cell_type": "code",
   "execution_count": null,
   "id": "cb4b2451",
   "metadata": {
    "papermill": {
     "duration": 0.423929,
     "end_time": "2023-12-09T06:31:56.906327",
     "exception": false,
     "start_time": "2023-12-09T06:31:56.482398",
     "status": "completed"
    },
    "tags": []
   },
   "outputs": [],
   "source": [
    "\n",
    "def extract_column_value(df):\n",
    "    #Chỉnh sửa cột Time và chuyển dữ liệu thành loại int\n",
    "    df['Time_taken(min)'] = df['Time_taken(min)'].apply(lambda x: int(x.split(' ')[1].strip()))\n",
    "    # chia thành 2 phần = khoảng trắng, sau đó chỉ lấy phần thứ 2 (số phút), rồi chuyển số phút -> int\n",
    "    \n",
    "    #Chỉnh sửa cột Weather conditions\n",
    "    df['Weather_conditions'] = df['Weather_conditions'].apply(lambda x: x.split(' ')[1].strip())\n",
    "    #Thêm mã thành phố từ Delivery person ID\n",
    "    df['City_code']=df['Delivery_person_ID'].str.split(\"RES\", expand=True)[0]\n",
    "    \n",
    "extract_column_value(df_train)\n",
    "df_train[['Time_taken(min)','Weather_conditions','City_code']].head()"
   ]
  },
  {
   "cell_type": "markdown",
   "id": "092d109d",
   "metadata": {
    "papermill": {
     "duration": 0.025956,
     "end_time": "2023-12-09T06:31:56.956940",
     "exception": false,
     "start_time": "2023-12-09T06:31:56.930984",
     "status": "completed"
    },
    "tags": []
   },
   "source": [
    "### Xóa những cột không dùng trong việc xây dựng Model"
   ]
  },
  {
   "cell_type": "code",
   "execution_count": null,
   "id": "256c0c73",
   "metadata": {
    "papermill": {
     "duration": 0.046891,
     "end_time": "2023-12-09T06:31:57.028343",
     "exception": false,
     "start_time": "2023-12-09T06:31:56.981452",
     "status": "completed"
    },
    "tags": []
   },
   "outputs": [],
   "source": [
    "\n",
    "def drop_columns(df):\n",
    "    df.drop(['ID','Delivery_person_ID'],axis=1,inplace=True)\n",
    "    \n",
    "print(\"Before No. of columns: \",df_train.shape[1])\n",
    "drop_columns(df_train)\n",
    "print(\"After No. of columns: \",df_train.shape[1])"
   ]
  },
  {
   "cell_type": "markdown",
   "id": "34499244",
   "metadata": {
    "papermill": {
     "duration": 0.024978,
     "end_time": "2023-12-09T06:31:57.078181",
     "exception": false,
     "start_time": "2023-12-09T06:31:57.053203",
     "status": "completed"
    },
    "tags": []
   },
   "source": [
    "### Kiểm tra các giá trị trùng lặp"
   ]
  },
  {
   "cell_type": "code",
   "execution_count": null,
   "id": "4bedac7f",
   "metadata": {
    "papermill": {
     "duration": 0.117214,
     "end_time": "2023-12-09T06:31:57.219827",
     "exception": false,
     "start_time": "2023-12-09T06:31:57.102613",
     "status": "completed"
    },
    "tags": []
   },
   "outputs": [],
   "source": [
    "\n",
    "if (len(df_train[df_train.duplicated()])>0):\n",
    "    print(\"There are Duplicate values present\")\n",
    "else:\n",
    "    print(\"There is no duplicate value present\")"
   ]
  },
  {
   "cell_type": "markdown",
   "id": "8338f218",
   "metadata": {
    "papermill": {
     "duration": 0.024337,
     "end_time": "2023-12-09T06:31:57.269330",
     "exception": false,
     "start_time": "2023-12-09T06:31:57.244993",
     "status": "completed"
    },
    "tags": []
   },
   "source": [
    "### Chỉnh sửa kiểu dữ liệu phù hợp "
   ]
  },
  {
   "cell_type": "code",
   "execution_count": null,
   "id": "6813a1a1",
   "metadata": {
    "papermill": {
     "duration": 0.100231,
     "end_time": "2023-12-09T06:31:57.394337",
     "exception": false,
     "start_time": "2023-12-09T06:31:57.294106",
     "status": "completed"
    },
    "tags": []
   },
   "outputs": [],
   "source": [
    "\n",
    "def update_datatype(df):\n",
    "    df['Delivery_person_Age'] = df['Delivery_person_Age'].astype('float64')\n",
    "    df['Delivery_person_Ratings'] = df['Delivery_person_Ratings'].astype('float64')\n",
    "    df['multiple_deliveries'] = df['multiple_deliveries'].astype('float64')\n",
    "    df['Order_Date']=pd.to_datetime(df['Order_Date'],format=\"%d-%m-%Y\")\n",
    "    \n",
    "update_datatype(df_train)"
   ]
  },
  {
   "cell_type": "markdown",
   "id": "f5491c75",
   "metadata": {
    "papermill": {
     "duration": 0.024381,
     "end_time": "2023-12-09T06:31:57.443859",
     "exception": false,
     "start_time": "2023-12-09T06:31:57.419478",
     "status": "completed"
    },
    "tags": []
   },
   "source": [
    "### Biến đổi string \"NaN\" thành np.nan\n",
    "(np.nan là gtri đặc biệt để biểu thị gtri missing value)"
   ]
  },
  {
   "cell_type": "code",
   "execution_count": null,
   "id": "c77294be",
   "metadata": {
    "papermill": {
     "duration": 1.032601,
     "end_time": "2023-12-09T06:31:58.501056",
     "exception": false,
     "start_time": "2023-12-09T06:31:57.468455",
     "status": "completed"
    },
    "tags": []
   },
   "outputs": [],
   "source": [
    "def convert_nan(df):\n",
    "    df.replace('NaN', float(np.nan), regex=True,inplace=True)\n",
    "\n",
    "convert_nan(df_train)"
   ]
  },
  {
   "cell_type": "markdown",
   "id": "98762db2",
   "metadata": {
    "papermill": {
     "duration": 0.024134,
     "end_time": "2023-12-09T06:31:58.552524",
     "exception": false,
     "start_time": "2023-12-09T06:31:58.528390",
     "status": "completed"
    },
    "tags": []
   },
   "source": [
    "### Kiểm tra các giá trị null"
   ]
  },
  {
   "cell_type": "code",
   "execution_count": null,
   "id": "e5ab716f",
   "metadata": {
    "papermill": {
     "duration": 0.174366,
     "end_time": "2023-12-09T06:31:58.751815",
     "exception": false,
     "start_time": "2023-12-09T06:31:58.577449",
     "status": "completed"
    },
    "tags": []
   },
   "outputs": [],
   "source": [
    "\n",
    "df_train.isnull().sum().sort_values(ascending=False)"
   ]
  },
  {
   "cell_type": "code",
   "execution_count": null,
   "id": "1789cb9c",
   "metadata": {
    "papermill": {
     "duration": 0.227899,
     "end_time": "2023-12-09T06:31:59.004593",
     "exception": false,
     "start_time": "2023-12-09T06:31:58.776694",
     "status": "completed"
    },
    "tags": []
   },
   "outputs": [],
   "source": [
    "#Handle null values\n",
    "def handle_null_values(df):\n",
    "    df['Delivery_person_Age'].fillna(np.random.choice(df['Delivery_person_Age']), inplace=True)\n",
    "    df['Weather_conditions'].fillna(np.random.choice(df['Weather_conditions']), inplace=True)\n",
    "    df['City'].fillna(df['City'].mode()[0], inplace=True) #mode: điền = gtri xuất hiện nhiều nhất\n",
    "    df['Festival'].fillna(df['Festival'].mode()[0], inplace=True)\n",
    "    df['multiple_deliveries'].fillna(df['multiple_deliveries'].mode()[0], inplace=True)\n",
    "    df['Road_traffic_density'].fillna(df['Road_traffic_density'].mode()[0], inplace=True)\n",
    "    df['Delivery_person_Ratings'].fillna(df['Delivery_person_Ratings'].median(), inplace=True)\n",
    "    \n",
    "handle_null_values(df_train)\n",
    "df_train.isnull().sum()"
   ]
  },
  {
   "cell_type": "markdown",
   "id": "7a612bcb",
   "metadata": {
    "papermill": {
     "duration": 0.026106,
     "end_time": "2023-12-09T06:31:59.056830",
     "exception": false,
     "start_time": "2023-12-09T06:31:59.030724",
     "status": "completed"
    },
    "tags": []
   },
   "source": [
    "### Handling outliers "
   ]
  },
  {
   "cell_type": "code",
   "execution_count": null,
   "id": "ec7d06f0",
   "metadata": {
    "papermill": {
     "duration": 0.038908,
     "end_time": "2023-12-09T06:31:59.121390",
     "exception": false,
     "start_time": "2023-12-09T06:31:59.082482",
     "status": "completed"
    },
    "tags": []
   },
   "outputs": [],
   "source": [
    "upper_limit = df_train['Delivery_person_Age'].mean() + 3 * df_train['Delivery_person_Age'].std()\n",
    "upper_limit"
   ]
  },
  {
   "cell_type": "code",
   "execution_count": null,
   "id": "bb5c37d2",
   "metadata": {},
   "outputs": [],
   "source": [
    "lower_limit = df_train['Delivery_person_Age'].mean() - 3*df_train['Delivery_person_Age'].std()\n",
    "lower_limit"
   ]
  },
  {
   "cell_type": "code",
   "execution_count": null,
   "id": "554cb0b7",
   "metadata": {
    "papermill": {
     "duration": 0.089169,
     "end_time": "2023-12-09T06:31:59.236284",
     "exception": false,
     "start_time": "2023-12-09T06:31:59.147115",
     "status": "completed"
    },
    "tags": []
   },
   "outputs": [],
   "source": [
    "df_train = df_train[(df_train['Delivery_person_Age'] < upper_limit) & (df_train['Delivery_person_Age'] > lower_limit)]\n",
    "df_train"
   ]
  },
  {
   "cell_type": "code",
   "execution_count": null,
   "id": "616d3c71",
   "metadata": {
    "papermill": {
     "duration": 0.087916,
     "end_time": "2023-12-09T06:31:59.353566",
     "exception": false,
     "start_time": "2023-12-09T06:31:59.265650",
     "status": "completed"
    },
    "tags": []
   },
   "outputs": [],
   "source": [
    "df_train = df_train[~(df_train[\"Restaurant_latitude\"] == 0)]\\\n",
    "    .reset_index(drop=True).copy()\n",
    "df_train"
   ]
  },
  {
   "cell_type": "code",
   "execution_count": null,
   "id": "2ef2c03a",
   "metadata": {
    "papermill": {
     "duration": 0.090763,
     "end_time": "2023-12-09T06:31:59.470639",
     "exception": false,
     "start_time": "2023-12-09T06:31:59.379876",
     "status": "completed"
    },
    "tags": []
   },
   "outputs": [],
   "source": [
    "df_train = df_train[~(df_train[\"Delivery_location_latitude\"] == 0)]\\\n",
    "    .reset_index(drop=True).copy()\n",
    "df_train"
   ]
  },
  {
   "cell_type": "code",
   "execution_count": null,
   "id": "0a939d98",
   "metadata": {
    "papermill": {
     "duration": 0.090639,
     "end_time": "2023-12-09T06:31:59.589114",
     "exception": false,
     "start_time": "2023-12-09T06:31:59.498475",
     "status": "completed"
    },
    "tags": []
   },
   "outputs": [],
   "source": [
    "df_train = df_train[~(df_train[\"Restaurant_latitude\"] < 7.00)]\\\n",
    "    .reset_index(drop=True).copy()\n",
    "df_train"
   ]
  },
  {
   "cell_type": "markdown",
   "id": "4401a796",
   "metadata": {
    "papermill": {
     "duration": 0.028079,
     "end_time": "2023-12-09T06:31:59.645430",
     "exception": false,
     "start_time": "2023-12-09T06:31:59.617351",
     "status": "completed"
    },
    "tags": []
   },
   "source": [
    "### Kiểm tra xem một lần nữa dataset đã sạch chưa "
   ]
  },
  {
   "cell_type": "code",
   "execution_count": null,
   "id": "94875b4d",
   "metadata": {
    "papermill": {
     "duration": 0.134563,
     "end_time": "2023-12-09T06:31:59.807535",
     "exception": false,
     "start_time": "2023-12-09T06:31:59.672972",
     "status": "completed"
    },
    "tags": []
   },
   "outputs": [],
   "source": [
    "for column in df_train.columns:\n",
    "    print(column)\n",
    "    print(df_train[column].value_counts())\n",
    "    print(\"------------------------------------\")"
   ]
  },
  {
   "cell_type": "code",
   "execution_count": null,
   "id": "076ce482",
   "metadata": {
    "papermill": {
     "duration": 0.04457,
     "end_time": "2023-12-09T06:31:59.880817",
     "exception": false,
     "start_time": "2023-12-09T06:31:59.836247",
     "status": "completed"
    },
    "tags": []
   },
   "outputs": [],
   "source": [
    "obj=df_train.select_dtypes(include=['object'])\n",
    "num=df_train.select_dtypes(include=['int64','float64'])\n",
    "print(obj.columns) #DL dạng chuỗi\n",
    "print(num.columns) #DL dạng số"
   ]
  },
  {
   "cell_type": "code",
   "execution_count": null,
   "id": "3acf991f",
   "metadata": {
    "papermill": {
     "duration": 0.040448,
     "end_time": "2023-12-09T06:31:59.950353",
     "exception": false,
     "start_time": "2023-12-09T06:31:59.909905",
     "status": "completed"
    },
    "tags": []
   },
   "outputs": [],
   "source": [
    "obj=['Weatherconditions', 'Road_traffic_density', 'Type_of_order',\n",
    "       'Type_of_vehicle', 'multiple_deliveries', 'Festival', 'City']\n",
    "num=['Delivery_person_Age', 'Delivery_person_Ratings', 'Vehicle_condition']\n",
    "\n",
    "df_train[num]"
   ]
  },
  {
   "cell_type": "markdown",
   "id": "3024318c",
   "metadata": {
    "papermill": {
     "duration": 0.028255,
     "end_time": "2023-12-09T06:32:00.007854",
     "exception": false,
     "start_time": "2023-12-09T06:31:59.979599",
     "status": "completed"
    },
    "tags": []
   },
   "source": [
    "# Data Visualization"
   ]
  },
  {
   "cell_type": "code",
   "execution_count": null,
   "id": "d7d63824",
   "metadata": {
    "papermill": {
     "duration": 0.039317,
     "end_time": "2023-12-09T06:32:00.077408",
     "exception": false,
     "start_time": "2023-12-09T06:32:00.038091",
     "status": "completed"
    },
    "tags": []
   },
   "outputs": [],
   "source": [
    "df_train['Delivery_person_Age'] = df_train['Delivery_person_Age'].astype('float')"
   ]
  },
  {
   "cell_type": "code",
   "execution_count": null,
   "id": "1c5e5fe8",
   "metadata": {
    "papermill": {
     "duration": 0.53352,
     "end_time": "2023-12-09T06:32:00.639664",
     "exception": false,
     "start_time": "2023-12-09T06:32:00.106144",
     "status": "completed"
    },
    "tags": []
   },
   "outputs": [],
   "source": [
    "sns.displot(df_train['Delivery_person_Age'])\n",
    "#biểu đồ phân phối"
   ]
  },
  {
   "cell_type": "markdown",
   "id": "44a38d27",
   "metadata": {
    "papermill": {
     "duration": 0.029969,
     "end_time": "2023-12-09T06:32:00.698269",
     "exception": false,
     "start_time": "2023-12-09T06:32:00.668300",
     "status": "completed"
    },
    "tags": []
   },
   "source": [
    "### Delivery_person_Ratings"
   ]
  },
  {
   "cell_type": "code",
   "execution_count": null,
   "id": "353e2597",
   "metadata": {
    "papermill": {
     "duration": 0.039758,
     "end_time": "2023-12-09T06:32:00.766591",
     "exception": false,
     "start_time": "2023-12-09T06:32:00.726833",
     "status": "completed"
    },
    "tags": []
   },
   "outputs": [],
   "source": [
    "df_train['Delivery_person_Ratings']=df_train['Delivery_person_Ratings'].astype('float64')"
   ]
  },
  {
   "cell_type": "code",
   "execution_count": null,
   "id": "9199deb4",
   "metadata": {
    "papermill": {
     "duration": 0.885128,
     "end_time": "2023-12-09T06:32:01.680683",
     "exception": false,
     "start_time": "2023-12-09T06:32:00.795555",
     "status": "completed"
    },
    "tags": []
   },
   "outputs": [],
   "source": [
    "sns.displot(df_train['Delivery_person_Ratings'])"
   ]
  },
  {
   "cell_type": "markdown",
   "id": "be5b603c",
   "metadata": {
    "papermill": {
     "duration": 0.029193,
     "end_time": "2023-12-09T06:32:01.739132",
     "exception": false,
     "start_time": "2023-12-09T06:32:01.709939",
     "status": "completed"
    },
    "tags": []
   },
   "source": [
    "### Type_of_Order"
   ]
  },
  {
   "cell_type": "code",
   "execution_count": null,
   "id": "c3aef422",
   "metadata": {
    "papermill": {
     "duration": 0.275602,
     "end_time": "2023-12-09T06:32:02.043880",
     "exception": false,
     "start_time": "2023-12-09T06:32:01.768278",
     "status": "completed"
    },
    "tags": []
   },
   "outputs": [],
   "source": [
    "plt.figure(dpi=100)\n",
    "sns.countplot(data=df_train,x='Type_of_order')\n"
   ]
  },
  {
   "cell_type": "code",
   "execution_count": null,
   "id": "24e5aba8",
   "metadata": {
    "papermill": {
     "duration": 0.444629,
     "end_time": "2023-12-09T06:32:02.519627",
     "exception": false,
     "start_time": "2023-12-09T06:32:02.074998",
     "status": "completed"
    },
    "tags": []
   },
   "outputs": [],
   "source": [
    "plt.figure(dpi=100)\n",
    "sns.countplot(data=df_train,x='Type_of_vehicle')"
   ]
  },
  {
   "cell_type": "code",
   "execution_count": null,
   "id": "4f062851",
   "metadata": {
    "papermill": {
     "duration": 0.51523,
     "end_time": "2023-12-09T06:32:03.065610",
     "exception": false,
     "start_time": "2023-12-09T06:32:02.550380",
     "status": "completed"
    },
    "tags": []
   },
   "outputs": [],
   "source": [
    "sns.countplot(x=df_train.City,hue=df_train.Type_of_order)\n",
    "#đô thị, tp đô thị, ngoại ô"
   ]
  },
  {
   "cell_type": "code",
   "execution_count": null,
   "id": "991f7a40",
   "metadata": {
    "papermill": {
     "duration": 0.498426,
     "end_time": "2023-12-09T06:32:03.596185",
     "exception": false,
     "start_time": "2023-12-09T06:32:03.097759",
     "status": "completed"
    },
    "tags": []
   },
   "outputs": [],
   "source": [
    "sns.countplot(x=df_train.City,hue=df_train.Road_traffic_density)\n",
    "#sự tắc nghẽn giao thông\n"
   ]
  },
  {
   "cell_type": "code",
   "execution_count": null,
   "id": "ae6b5af1",
   "metadata": {
    "papermill": {
     "duration": 0.369126,
     "end_time": "2023-12-09T06:32:03.997865",
     "exception": false,
     "start_time": "2023-12-09T06:32:03.628739",
     "status": "completed"
    },
    "tags": []
   },
   "outputs": [],
   "source": [
    "sns.countplot(x=df_train.Type_of_order,hue=df_train.Festival) #Festival doesn't affect the food ordering frequency"
   ]
  },
  {
   "cell_type": "code",
   "execution_count": null,
   "id": "f05ff057",
   "metadata": {
    "papermill": {
     "duration": 0.428104,
     "end_time": "2023-12-09T06:32:04.478273",
     "exception": false,
     "start_time": "2023-12-09T06:32:04.050169",
     "status": "completed"
    },
    "tags": []
   },
   "outputs": [],
   "source": [
    "sns.countplot(x=df_train.Vehicle_condition,hue=df_train.City) #Vehicle condition is overall good in all 3 cities\n",
    "#It has taken more time to deliver food in semi-urban cities, likely due to traffic or road conditions."
   ]
  },
  {
   "cell_type": "code",
   "execution_count": null,
   "id": "82083e1f",
   "metadata": {
    "papermill": {
     "duration": 0.954284,
     "end_time": "2023-12-09T06:32:05.475391",
     "exception": false,
     "start_time": "2023-12-09T06:32:04.521107",
     "status": "completed"
    },
    "tags": []
   },
   "outputs": [],
   "source": [
    "plt.figure(dpi=100)\n",
    "sns.kdeplot(data=df_train,x='Time_taken(min)', hue='Type_of_vehicle', fill=True)\n",
    "# most of the delivery is done through motorcylce and also have much higher mean delivery time compared to others"
   ]
  },
  {
   "cell_type": "markdown",
   "id": "033eed75",
   "metadata": {
    "papermill": {
     "duration": 0.035215,
     "end_time": "2023-12-09T06:32:05.544206",
     "exception": false,
     "start_time": "2023-12-09T06:32:05.508991",
     "status": "completed"
    },
    "tags": []
   },
   "source": [
    "### Heatmap"
   ]
  },
  {
   "cell_type": "code",
   "execution_count": null,
   "id": "c1231633",
   "metadata": {
    "papermill": {
     "duration": 0.03394,
     "end_time": "2023-12-09T06:32:05.612674",
     "exception": false,
     "start_time": "2023-12-09T06:32:05.578734",
     "status": "completed"
    },
    "tags": []
   },
   "outputs": [],
   "source": [
    "# plt.figure(figsize=(12,12))\n",
    "# sns.heatmap(df_train.corr(),annot=True,linewidths=0.6,fmt=\".2f\",cmap=\"coolwarm\")\n",
    "\n",
    "# Correlation HeatMap\n",
    "plt.figure(figsize=(15,9))\n",
    "sns.heatmap(df_train.select_dtypes(include=['float64', 'int64']).corr(), annot=True, linewidth=0.1, cmap=\"Blues\")\n",
    "\n",
    "plt.show()\n"
   ]
  },
  {
   "cell_type": "markdown",
   "id": "b2ba88f2",
   "metadata": {
    "papermill": {
     "duration": 0.034407,
     "end_time": "2023-12-09T06:32:05.683447",
     "exception": false,
     "start_time": "2023-12-09T06:32:05.649040",
     "status": "completed"
    },
    "tags": []
   },
   "source": [
    "# Feature Engineering"
   ]
  },
  {
   "cell_type": "code",
   "execution_count": null,
   "id": "e34d47df",
   "metadata": {
    "papermill": {
     "duration": 0.13776,
     "end_time": "2023-12-09T06:32:05.855666",
     "exception": false,
     "start_time": "2023-12-09T06:32:05.717906",
     "status": "completed"
    },
    "tags": []
   },
   "outputs": [],
   "source": [
    "def extract_date_features(data):\n",
    "    data[\"day\"] = data.Order_Date.dt.day\n",
    "    data[\"month\"] = data.Order_Date.dt.month\n",
    "    data[\"quarter\"] = data.Order_Date.dt.quarter\n",
    "    data[\"year\"] = data.Order_Date.dt.year\n",
    "    data['day_of_week'] = data.Order_Date.dt.day_of_week.astype(int)\n",
    "    data[\"is_month_start\"] = data.Order_Date.dt.is_month_start.astype(int)\n",
    "    data[\"is_month_end\"] = data.Order_Date.dt.is_month_end.astype(int)\n",
    "    data[\"is_quarter_start\"] = data.Order_Date.dt.is_quarter_start.astype(int)\n",
    "    data[\"is_quarter_end\"] = data.Order_Date.dt.is_quarter_end.astype(int)\n",
    "    data[\"is_year_start\"] = data.Order_Date.dt.is_year_start.astype(int)\n",
    "    data[\"is_year_end\"] = data.Order_Date.dt.is_year_end.astype(int)\n",
    "    #Ngày thứ 5 và thứ 6 trong tuần là thứ sáu và thứ bảy\n",
    "    data['is_weekend'] = np.where(data['day_of_week'].isin([5,6]),1,0)\n",
    "\n",
    "extract_date_features(df_train)\n",
    "df_train.head()"
   ]
  },
  {
   "cell_type": "code",
   "execution_count": null,
   "id": "3983be0e",
   "metadata": {
    "papermill": {
     "duration": 2.581848,
     "end_time": "2023-12-09T06:32:08.472371",
     "exception": false,
     "start_time": "2023-12-09T06:32:05.890523",
     "status": "completed"
    },
    "tags": []
   },
   "outputs": [],
   "source": [
    "# #Tính khoảng cách thời gian\n",
    "# def calculate_time_diff(df):\n",
    "#     # Tính khoảng cách thời gian từ khi đặt hàng đến khi shipper lấy đơn hàng \n",
    "#     df['Time_Orderd'] = pd.to_timedelta(df['Time_Orderd'])\n",
    "#     df['Time_Order_picked'] = pd.to_timedelta(df['Time_Order_picked'])\n",
    "    \n",
    "#     df['Time_Order_picked_formatted'] = df['Order_Date'] + np.where(df['Time_Order_picked'] < df['Time_Orderd'], pd.DateOffset(days=1), pd.DateOffset(days=0)) + df['Time_Order_picked']\n",
    "#     df['Time_Ordered_formatted'] = df['Order_Date'] + df['Time_Orderd']\n",
    "    \n",
    "#     df['order_prepare_time'] = (df['Time_Order_picked_formatted'] - df['Time_Ordered_formatted']).dt.total_seconds() / 60\n",
    "    \n",
    "#     # Xử lý các giá trị null bằng cách điền vào giá trị trung vị\n",
    "#     df['order_prepare_time'].fillna(df['order_prepare_time'].median(), inplace=True)\n",
    "    \n",
    "#     # Bỏ tất cả các cột liên quan đến ngày và giờ\n",
    "#     df.drop(['Time_Orderd', 'Time_Order_picked', 'Time_Ordered_formatted', 'Time_Order_picked_formatted', 'Order_Date'], axis=1, inplace=True)\n",
    "\n",
    "\n",
    "# calculate_time_diff(df_train)\n",
    "# df_train.head()\n",
    "\n",
    "\n",
    "\n",
    "\n",
    "\n",
    "def calculate_time_diff(df):\n",
    "    # Chuyển đổi các cột thời gian thành định dạng datetime\n",
    "    df['Order_Date'] = pd.to_datetime(df['Order_Date'])\n",
    "    df['Time_Orderd'] = pd.to_timedelta(df['Time_Orderd'])\n",
    "    df['Time_Order_picked'] = pd.to_timedelta(df['Time_Order_picked'])\n",
    "    \n",
    "    # Tính toán thời gian đặt hàng và thời gian lấy hàng\n",
    "    df['Time_Order_picked_formatted'] = df['Order_Date'] + np.where(df['Time_Order_picked'] < df['Time_Orderd'], pd.DateOffset(days=1), pd.DateOffset(days=0)) + df['Time_Order_picked']\n",
    "    df['Time_Ordered_formatted'] = df['Order_Date'] + df['Time_Orderd']\n",
    "    \n",
    "    # Chuyển đổi các cột thành kiểu datetime nếu chúng không phải là kiểu datetime\n",
    "    df['Time_Order_picked_formatted'] = pd.to_datetime(df['Time_Order_picked_formatted'])\n",
    "    df['Time_Ordered_formatted'] = pd.to_datetime(df['Time_Ordered_formatted'])\n",
    "    \n",
    "    # Tính toán thời gian chuẩn bị đơn hàng\n",
    "    df['order_prepare_time'] = (df['Time_Order_picked_formatted'] - df['Time_Ordered_formatted']).dt.total_seconds() / 60\n",
    "    \n",
    "    # Xử lý giá trị null bằng cách điền vào giá trị trung vị\n",
    "    df['order_prepare_time'].fillna(df['order_prepare_time'].median(), inplace=True)\n",
    "    \n",
    "    # Bỏ tất cả các cột liên quan đến ngày và giờ\n",
    "    df.drop(['Time_Orderd', 'Time_Order_picked', 'Time_Ordered_formatted', 'Time_Order_picked_formatted', 'Order_Date'], axis=1, inplace=True)\n",
    "\n",
    "calculate_time_diff(df_train)\n",
    "df_train.head()\n",
    "\n",
    "\n",
    "\n",
    "\n",
    "\n"
   ]
  },
  {
   "cell_type": "code",
   "execution_count": null,
   "id": "068a5d1f",
   "metadata": {
    "papermill": {
     "duration": 13.599281,
     "end_time": "2023-12-09T06:32:22.107860",
     "exception": false,
     "start_time": "2023-12-09T06:32:08.508579",
     "status": "completed"
    },
    "tags": []
   },
   "outputs": [],
   "source": [
    "#Tính toán khoảng cách giữa địa điểm nhà hàng và địa điểm giao hàng\n",
    "def calculate_distance(df):\n",
    "    df['distance']=np.zeros(len(df))\n",
    "    restaurant_coordinates=df[['Restaurant_latitude','Restaurant_longitude']].to_numpy()\n",
    "    delivery_location_coordinates=df[['Delivery_location_latitude','Delivery_location_longitude']].to_numpy()\n",
    "    df['distance'] = np.array([geodesic(restaurant, delivery) for restaurant, delivery in zip(restaurant_coordinates, delivery_location_coordinates)])\n",
    "    df['distance']= df['distance'].astype(\"str\").str.extract('(\\d+)').astype(\"int64\")\n",
    "    \n",
    "calculate_distance(df_train)\n",
    "df_train.head()"
   ]
  },
  {
   "cell_type": "code",
   "execution_count": null,
   "id": "d28dd9f8",
   "metadata": {},
   "outputs": [],
   "source": [
    "#nháp thử\n",
    "\n",
    "# Correlation HeatMap\n",
    "plt.figure(figsize=(15,9))\n",
    "sns.heatmap(df_train.select_dtypes(include=['float64', 'int64']).corr(), annot=True, linewidth=0.1, cmap=\"Blues\")\n",
    "\n",
    "plt.show()\n"
   ]
  },
  {
   "cell_type": "markdown",
   "id": "f77968b3",
   "metadata": {
    "papermill": {
     "duration": 0.035172,
     "end_time": "2023-12-09T06:32:22.178773",
     "exception": false,
     "start_time": "2023-12-09T06:32:22.143601",
     "status": "completed"
    },
    "tags": []
   },
   "source": [
    "# Data Preprocessing"
   ]
  },
  {
   "cell_type": "markdown",
   "id": "5740911f",
   "metadata": {
    "papermill": {
     "duration": 0.035168,
     "end_time": "2023-12-09T06:32:22.250095",
     "exception": false,
     "start_time": "2023-12-09T06:32:22.214927",
     "status": "completed"
    },
    "tags": []
   },
   "source": [
    "## Label Encoding"
   ]
  },
  {
   "cell_type": "code",
   "execution_count": null,
   "id": "6cce7dcd",
   "metadata": {
    "papermill": {
     "duration": 0.206727,
     "end_time": "2023-12-09T06:32:22.492282",
     "exception": false,
     "start_time": "2023-12-09T06:32:22.285555",
     "status": "completed"
    },
    "tags": []
   },
   "outputs": [],
   "source": [
    "def label_encoding(df):\n",
    "    categorical_columns = df.select_dtypes(include='object').columns\n",
    "    label_encoder = LabelEncoder()\n",
    "    df[categorical_columns] = df[categorical_columns].apply(lambda col: label_encoder.fit_transform(col))\n",
    "\n",
    "label_encoding(df_train)\n",
    "df_train.head(10)\n"
   ]
  },
  {
   "cell_type": "markdown",
   "id": "936fb50b",
   "metadata": {
    "papermill": {
     "duration": 0.036188,
     "end_time": "2023-12-09T06:32:22.565888",
     "exception": false,
     "start_time": "2023-12-09T06:32:22.529700",
     "status": "completed"
    },
    "tags": []
   },
   "source": [
    "## Train test split"
   ]
  },
  {
   "cell_type": "code",
   "execution_count": null,
   "id": "f23985f7",
   "metadata": {
    "papermill": {
     "duration": 0.083689,
     "end_time": "2023-12-09T06:32:22.685981",
     "exception": false,
     "start_time": "2023-12-09T06:32:22.602292",
     "status": "completed"
    },
    "tags": []
   },
   "outputs": [],
   "source": [
    "# train = df_train.loc[df_train.index < 33198]\n",
    "# test = df_train.loc[df_train.index >= 33198]\n",
    "\n",
    "#Split features & label\n",
    "X = df_train.drop('Time_taken(min)', axis=1)  # Features\n",
    "y = df_train['Time_taken(min)']  # dự đoán\n",
    "\n",
    "X_train, X_test, y_train, y_test = train_test_split(X, y, test_size=0.2, random_state=42)\n",
    "print(X_train.shape)\n",
    "print(y_train.shape)\n",
    "print(X_test.shape)\n",
    "print(y_test.shape)"
   ]
  },
  {
   "cell_type": "markdown",
   "id": "d0bf7803",
   "metadata": {
    "papermill": {
     "duration": 0.036582,
     "end_time": "2023-12-09T06:32:22.759453",
     "exception": false,
     "start_time": "2023-12-09T06:32:22.722871",
     "status": "completed"
    },
    "tags": []
   },
   "source": [
    "## Standardization"
   ]
  },
  {
   "cell_type": "code",
   "execution_count": null,
   "id": "4d92c291",
   "metadata": {
    "papermill": {
     "duration": 0.0787,
     "end_time": "2023-12-09T06:32:22.875285",
     "exception": false,
     "start_time": "2023-12-09T06:32:22.796585",
     "status": "completed"
    },
    "tags": []
   },
   "outputs": [],
   "source": [
    "# Tạo một đối tượng có bộ chia tỷ lệ tiêu chuẩn\n",
    "scaler = StandardScaler()\n",
    "\n",
    "# Phù hợp với bộ chia tỷ lệ trên dữ liệu đào tạo\n",
    "scaler.fit(X_train)\n",
    "\n",
    "# Chuẩn hóa bộ dữ liệu train\n",
    "X_train = scaler.transform(X_train)\n",
    "\n",
    "# Chuẩn hóa trên bộ dữ liệu test\n",
    "X_test = scaler.transform(X_test)\n",
    "\n"
   ]
  },
  {
   "cell_type": "markdown",
   "id": "97175c07",
   "metadata": {
    "papermill": {
     "duration": 0.03577,
     "end_time": "2023-12-09T06:32:22.947445",
     "exception": false,
     "start_time": "2023-12-09T06:32:22.911675",
     "status": "completed"
    },
    "tags": []
   },
   "source": [
    "# Model Building"
   ]
  },
  {
   "cell_type": "markdown",
   "id": "f0928ece",
   "metadata": {
    "papermill": {
     "duration": 0.035659,
     "end_time": "2023-12-09T06:32:23.019278",
     "exception": false,
     "start_time": "2023-12-09T06:32:22.983619",
     "status": "completed"
    },
    "tags": []
   },
   "source": [
    "### Các bước thực hiện\n",
    "**1. Sử dụng xác thực chéo và điều chỉnh siêu tham số để xác định mô hình hồi quy tối ưu.**\n",
    "\n",
    "**2. Xây dựng mô hình dự đoán bằng cách sử dụng mô hình tốt nhất đã được xác định.**\n",
    "\n",
    "**3. Đánh giá hiệu suất của mô hình trên dữ liệu thử nghiệm để đánh giá độ chính xác và độ tin cậy của nó.**"
   ]
  },
  {
   "cell_type": "markdown",
   "id": "39eb3af4",
   "metadata": {
    "papermill": {
     "duration": 0.036086,
     "end_time": "2023-12-09T06:32:23.091345",
     "exception": false,
     "start_time": "2023-12-09T06:32:23.055259",
     "status": "completed"
    },
    "tags": []
   },
   "source": [
    "### Cross Validation"
   ]
  },
  {
   "cell_type": "code",
   "execution_count": null,
   "id": "a3d25f2a",
   "metadata": {
    "papermill": {
     "duration": 831.34443,
     "end_time": "2023-12-09T06:46:14.472242",
     "exception": false,
     "start_time": "2023-12-09T06:32:23.127812",
     "status": "completed"
    },
    "tags": []
   },
   "outputs": [],
   "source": [
    "from sklearn.model_selection import GridSearchCV, cross_val_score\n",
    "from sklearn.linear_model import LinearRegression\n",
    "from sklearn.tree import DecisionTreeRegressor\n",
    "from sklearn.ensemble import RandomForestRegressor\n",
    "import xgboost as xgb\n",
    "\n",
    "# Tìm mô hình tốt nhất\n",
    "models = [\n",
    "    LinearRegression(),\n",
    "    DecisionTreeRegressor(),\n",
    "    RandomForestRegressor(),\n",
    "    xgb.XGBRegressor(),\n",
    "]\n",
    "\n",
    "param_grid = [\n",
    "    {},  \n",
    "    {'max_depth': [3, 5, 7]},\n",
    "    {'n_estimators': [100, 200, 300]},\n",
    "    {'n_estimators': [20, 25, 30], 'max_depth': [5, 7, 9]},\n",
    "]\n",
    "\n",
    "for i, model in enumerate(models):\n",
    "    grid_search = GridSearchCV(model, param_grid[i], cv=5, scoring='r2')\n",
    "    grid_search.fit(X_train, y_train)\n",
    "\n",
    "    print(f\"{model.__class__.__name__}:\")\n",
    "    print(\"Best parameters:\", grid_search.best_params_)\n",
    "    print(\"Best R2 score:\", grid_search.best_score_)\n",
    "    print()\n"
   ]
  },
  {
   "cell_type": "markdown",
   "id": "8ff14f41",
   "metadata": {
    "papermill": {
     "duration": 0.036953,
     "end_time": "2023-12-09T06:46:14.545807",
     "exception": false,
     "start_time": "2023-12-09T06:46:14.508854",
     "status": "completed"
    },
    "tags": []
   },
   "source": [
    "# Future Prediction"
   ]
  },
  {
   "cell_type": "markdown",
   "id": "6a6189ed",
   "metadata": {
    "papermill": {
     "duration": 0.036408,
     "end_time": "2023-12-09T06:46:14.619121",
     "exception": false,
     "start_time": "2023-12-09T06:46:14.582713",
     "status": "completed"
    },
    "tags": []
   },
   "source": [
    "### Model Building"
   ]
  },
  {
   "cell_type": "code",
   "execution_count": null,
   "id": "352f69b3",
   "metadata": {
    "papermill": {
     "duration": 1.334836,
     "end_time": "2023-12-09T06:46:15.991495",
     "exception": false,
     "start_time": "2023-12-09T06:46:14.656659",
     "status": "completed"
    },
    "tags": []
   },
   "outputs": [],
   "source": [
    "# Create a XGB regressor model\n",
    "model = xgb.XGBRegressor(n_estimators=20,max_depth=9)\n",
    "\n",
    "# Fit the model on the training data\n",
    "model.fit(X_train, y_train,\n",
    "         eval_set = [(X_train, y_train), (X_test, y_test)], verbose = True)"
   ]
  },
  {
   "cell_type": "markdown",
   "id": "dd07bcac",
   "metadata": {
    "papermill": {
     "duration": 0.038464,
     "end_time": "2023-12-09T06:46:16.068500",
     "exception": false,
     "start_time": "2023-12-09T06:46:16.030036",
     "status": "completed"
    },
    "tags": []
   },
   "source": [
    "**rmse giá trị càng thấp thì độ chính xác của mô hình càng cao**"
   ]
  },
  {
   "cell_type": "markdown",
   "id": "77a05276",
   "metadata": {
    "papermill": {
     "duration": 0.038048,
     "end_time": "2023-12-09T06:46:16.145456",
     "exception": false,
     "start_time": "2023-12-09T06:46:16.107408",
     "status": "completed"
    },
    "tags": []
   },
   "source": [
    "### Model Evaluation"
   ]
  },
  {
   "cell_type": "code",
   "execution_count": null,
   "id": "ead1e8d8",
   "metadata": {
    "papermill": {
     "duration": 0.061596,
     "end_time": "2023-12-09T06:46:16.246198",
     "exception": false,
     "start_time": "2023-12-09T06:46:16.184602",
     "status": "completed"
    },
    "tags": []
   },
   "outputs": [],
   "source": [
    "# Make predictions on the test data\n",
    "y_pred = model.predict(X_test)\n",
    "y_pred\n",
    "# Evaluate the model\n",
    "mae = mean_absolute_error(y_test, y_pred)\n",
    "mse = mean_squared_error(y_test, y_pred)\n",
    "rmse = np.sqrt(mse)\n",
    "r2 = r2_score(y_test, y_pred)\n",
    "\n",
    "print(\"Mean Absolute Error (MAE):\", round(mae,2))\n",
    "print(\"Mean Squared Error (MSE):\", round(mse,2))\n",
    "print(\"Root Mean Squared Error (RMSE):\", round(rmse,2))\n",
    "print(\"R-squared (R2) Score:\", round(r2,2))"
   ]
  },
  {
   "cell_type": "code",
   "execution_count": null,
   "id": "18a05d58",
   "metadata": {
    "papermill": {
     "duration": 0.051032,
     "end_time": "2023-12-09T06:46:16.336606",
     "exception": false,
     "start_time": "2023-12-09T06:46:16.285574",
     "status": "completed"
    },
    "tags": []
   },
   "outputs": [],
   "source": [
    "df_train.columns"
   ]
  },
  {
   "cell_type": "code",
   "execution_count": null,
   "id": "a9e93bb7",
   "metadata": {
    "papermill": {
     "duration": 0.060838,
     "end_time": "2023-12-09T06:46:16.436193",
     "exception": false,
     "start_time": "2023-12-09T06:46:16.375355",
     "status": "completed"
    },
    "tags": []
   },
   "outputs": [],
   "source": [
    "test['prediction_time'] = model.predict(X_test)\n",
    "def drop_columns(df):\n",
    "    df.drop(['Delivery_person_Age', 'Delivery_person_Ratings', 'Restaurant_latitude',\n",
    "       'Restaurant_longitude', 'Delivery_location_latitude',\n",
    "       'Delivery_location_longitude', 'Weather_conditions',\n",
    "       'Road_traffic_density', 'Vehicle_condition', 'Type_of_order',\n",
    "       'Type_of_vehicle', 'multiple_deliveries', 'Festival', 'City', 'City_code', 'day', 'month', 'quarter', 'year',\n",
    "       'day_of_week', 'is_month_start', 'is_month_end', 'is_quarter_start',\n",
    "       'is_quarter_end', 'is_year_start', 'is_year_end', 'is_weekend',\n",
    "       'order_prepare_time', 'distance'],axis=1,inplace=True)\n",
    "drop_columns(test)"
   ]
  },
  {
   "cell_type": "code",
   "execution_count": null,
   "id": "c6969761",
   "metadata": {
    "papermill": {
     "duration": 0.057565,
     "end_time": "2023-12-09T06:46:16.535098",
     "exception": false,
     "start_time": "2023-12-09T06:46:16.477533",
     "status": "completed"
    },
    "tags": []
   },
   "outputs": [],
   "source": [
    "test.tail(100)"
   ]
  },
  {
   "cell_type": "code",
   "execution_count": null,
   "id": "37dfc4e0",
   "metadata": {
    "papermill": {
     "duration": 0.056321,
     "end_time": "2023-12-09T06:46:16.630594",
     "exception": false,
     "start_time": "2023-12-09T06:46:16.574273",
     "status": "completed"
    },
    "tags": []
   },
   "outputs": [],
   "source": [
    "test.head(100)"
   ]
  },
  {
   "cell_type": "markdown",
   "id": "83ee04e6",
   "metadata": {
    "papermill": {
     "duration": 0.040847,
     "end_time": "2023-12-09T06:46:16.711407",
     "exception": false,
     "start_time": "2023-12-09T06:46:16.670560",
     "status": "completed"
    },
    "tags": []
   },
   "source": [
    "# Conclusion\n",
    "\n",
    "**In conclusion, the food delivery prediction model was developed using XGBoost, achieving an impressive R2 score of 0.82. Moving forward, potential enhancements include identifying the best features, conducting additional feature engineering, and exploring other optimization techniques to further improve the model's performance and accuracy. These steps will contribute to fine-tuning the model and unlocking its full potential in predicting food delivery timings accurately.**\n",
    "\n",
    "\n",
    "Trong kết luận, mô hình dự đoán giao hàng đồ ăn đã được phát triển bằng cách sử dụng XGBoost, đạt được điểm R2 ấn tượng là 0.82. Đối với các bước tiếp theo, các cải tiến tiềm năng bao gồm xác định các đặc trưng tốt nhất, tiến hành thêm công việc tạo đặc trưng, và khám phá các kỹ thuật tối ưu hóa khác để cải thiện hiệu suất và độ chính xác của mô hình. Những bước này sẽ đóng góp vào việc điều chỉnh mô hình và mở khóa toàn bộ tiềm năng của nó trong việc dự đoán thời gian giao hàng đồ ăn một cách chính xác."
   ]
  },
  {
   "cell_type": "code",
   "execution_count": null,
   "id": "b554d1e0-823b-42e1-9e77-1bf70fec5635",
   "metadata": {},
   "outputs": [],
   "source": []
  },
  {
   "cell_type": "code",
   "execution_count": null,
   "id": "6e2f9345-57a9-484e-af8f-c4904a4857b5",
   "metadata": {},
   "outputs": [],
   "source": []
  }
 ],
 "metadata": {
  "kaggle": {
   "accelerator": "none",
   "dataSources": [
    {
     "datasetId": 2515893,
     "sourceId": 4269865,
     "sourceType": "datasetVersion"
    }
   ],
   "dockerImageVersionId": 30497,
   "isGpuEnabled": false,
   "isInternetEnabled": true,
   "language": "python",
   "sourceType": "notebook"
  },
  "kernelspec": {
   "display_name": "Python 3 (ipykernel)",
   "language": "python",
   "name": "python3"
  },
  "language_info": {
   "codemirror_mode": {
    "name": "ipython",
    "version": 3
   },
   "file_extension": ".py",
   "mimetype": "text/x-python",
   "name": "python",
   "nbconvert_exporter": "python",
   "pygments_lexer": "ipython3",
   "version": "3.12.3"
  },
  "papermill": {
   "default_parameters": {},
   "duration": 880.352484,
   "end_time": "2023-12-09T06:46:17.877460",
   "environment_variables": {},
   "exception": null,
   "input_path": "__notebook__.ipynb",
   "output_path": "__notebook__.ipynb",
   "parameters": {},
   "start_time": "2023-12-09T06:31:37.524976",
   "version": "2.4.0"
  }
 },
 "nbformat": 4,
 "nbformat_minor": 5
}
